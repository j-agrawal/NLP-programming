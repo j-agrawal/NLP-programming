{
  "nbformat": 4,
  "nbformat_minor": 0,
  "metadata": {
    "colab": {
      "name": "spacy_lib.ipynb",
      "version": "0.3.2",
      "provenance": [],
      "collapsed_sections": [],
      "include_colab_link": true
    },
    "kernelspec": {
      "name": "python3",
      "display_name": "Python 3"
    }
  },
  "cells": [
    {
      "cell_type": "markdown",
      "metadata": {
        "id": "view-in-github",
        "colab_type": "text"
      },
      "source": [
        "<a href=\"https://colab.research.google.com/github/j-agrawal/NLP-programming/blob/master/spacy_lib.ipynb\" target=\"_parent\"><img src=\"https://colab.research.google.com/assets/colab-badge.svg\" alt=\"Open In Colab\"/></a>"
      ]
    },
    {
      "cell_type": "code",
      "metadata": {
        "id": "QoRFOgkWd-u2",
        "colab_type": "code",
        "colab": {}
      },
      "source": [
        "import spacy"
      ],
      "execution_count": 0,
      "outputs": []
    },
    {
      "cell_type": "code",
      "metadata": {
        "id": "vEFcTkoreZdF",
        "colab_type": "code",
        "colab": {}
      },
      "source": [
        "# language en --\n",
        "nlp = spacy.load('en')"
      ],
      "execution_count": 0,
      "outputs": []
    },
    {
      "cell_type": "code",
      "metadata": {
        "id": "YyqcYf13ekzm",
        "colab_type": "code",
        "colab": {}
      },
      "source": [
        "data= \"hello world i am going outside for playing cricket my \""
      ],
      "execution_count": 0,
      "outputs": []
    },
    {
      "cell_type": "code",
      "metadata": {
        "id": "wayarxfKfP8W",
        "colab_type": "code",
        "colab": {}
      },
      "source": [
        "new_data= nlp(data) # automatic tokenize"
      ],
      "execution_count": 0,
      "outputs": []
    },
    {
      "cell_type": "code",
      "metadata": {
        "id": "f5SVZBCBfR9z",
        "colab_type": "code",
        "outputId": "f30f5746-2d34-4639-e85a-39cbf2e7d283",
        "colab": {
          "base_uri": "https://localhost:8080/",
          "height": 550
        }
      },
      "source": [
        "for i in new_data:\n",
        "  print(i,\"lemmatization of word is --->\", i.lemma_)\n",
        "  print(\"###########################################\")\n",
        "  print(i,\"pos\",i.pos_)"
      ],
      "execution_count": 0,
      "outputs": [
        {
          "output_type": "stream",
          "text": [
            "hello lemmatization of word is ---> hello\n",
            "###########################################\n",
            "hello pos INTJ\n",
            "world lemmatization of word is ---> world\n",
            "###########################################\n",
            "world pos NOUN\n",
            "i lemmatization of word is ---> i\n",
            "###########################################\n",
            "i pos PRON\n",
            "am lemmatization of word is ---> be\n",
            "###########################################\n",
            "am pos VERB\n",
            "going lemmatization of word is ---> go\n",
            "###########################################\n",
            "going pos VERB\n",
            "outside lemmatization of word is ---> outside\n",
            "###########################################\n",
            "outside pos ADV\n",
            "for lemmatization of word is ---> for\n",
            "###########################################\n",
            "for pos ADP\n",
            "playing lemmatization of word is ---> play\n",
            "###########################################\n",
            "playing pos VERB\n",
            "cricket lemmatization of word is ---> cricket\n",
            "###########################################\n",
            "cricket pos NOUN\n",
            "my lemmatization of word is ---> -PRON-\n",
            "###########################################\n",
            "my pos DET\n"
          ],
          "name": "stdout"
        }
      ]
    },
    {
      "cell_type": "code",
      "metadata": {
        "id": "kNgOkiwTfZBb",
        "colab_type": "code",
        "colab": {}
      },
      "source": [
        ""
      ],
      "execution_count": 0,
      "outputs": []
    }
  ]
}