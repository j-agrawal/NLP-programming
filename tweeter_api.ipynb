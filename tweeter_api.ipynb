{
  "nbformat": 4,
  "nbformat_minor": 0,
  "metadata": {
    "colab": {
      "name": "tweeter_api.ipynb",
      "version": "0.3.2",
      "provenance": [],
      "collapsed_sections": [],
      "include_colab_link": true
    },
    "kernelspec": {
      "name": "python3",
      "display_name": "Python 3"
    }
  },
  "cells": [
    {
      "cell_type": "markdown",
      "metadata": {
        "id": "view-in-github",
        "colab_type": "text"
      },
      "source": [
        "<a href=\"https://colab.research.google.com/github/j-agrawal/NLP-programming/blob/master/tweeter_api.ipynb\" target=\"_parent\"><img src=\"https://colab.research.google.com/assets/colab-badge.svg\" alt=\"Open In Colab\"/></a>"
      ]
    },
    {
      "cell_type": "code",
      "metadata": {
        "id": "4fLeKbUpK_E9",
        "colab_type": "code",
        "colab": {}
      },
      "source": [
        "# sudo pip3 install tweepy\n",
        "import tweepy\n",
        "import matplotlib.pyplot as plt\n",
        "import time\n",
        "from textblob import TextBlob"
      ],
      "execution_count": 0,
      "outputs": []
    },
    {
      "cell_type": "code",
      "metadata": {
        "id": "ZcL59HrZLFjG",
        "colab_type": "code",
        "colab": {}
      },
      "source": [
        "# all 4 authentication keys to access twitter py\n",
        "consumer_key='upload your own key'\n",
        "consumer_sec='upload your own key'\n",
        "\n",
        "# from proxy server we need to connect to webserver of twitter \n",
        "access_token='upload your own key'\n",
        "access_sec='upload your own key'\n"
      ],
      "execution_count": 0,
      "outputs": []
    },
    {
      "cell_type": "code",
      "metadata": {
        "id": "KjVSxatxOpXM",
        "colab_type": "code",
        "colab": {}
      },
      "source": [
        "# tweepy explore --\n",
        "# connecting to jum server of twitter\n",
        "auth= tweepy.OAuthHandler(consumer_key,consumer_sec)"
      ],
      "execution_count": 0,
      "outputs": []
    },
    {
      "cell_type": "code",
      "metadata": {
        "id": "BEQsOwLDO9qo",
        "colab_type": "code",
        "colab": {}
      },
      "source": [
        "# now we can connect from jump server to web  server of twitter\n",
        "auth.set_access_token(access_token,access_sec)"
      ],
      "execution_count": 0,
      "outputs": []
    },
    {
      "cell_type": "code",
      "metadata": {
        "id": "5IsxrvojPoD3",
        "colab_type": "code",
        "colab": {}
      },
      "source": [
        "# now we can conect to api storage server of twitter\n",
        "api_connect= tweepy.API(auth)"
      ],
      "execution_count": 0,
      "outputs": []
    },
    {
      "cell_type": "code",
      "metadata": {
        "id": "x0MG4CuNQEsJ",
        "colab_type": "code",
        "colab": {}
      },
      "source": [
        "# now we can search any topic on twitter\n",
        "tweet_data= api_connect.search('modi', count=20)"
      ],
      "execution_count": 0,
      "outputs": []
    },
    {
      "cell_type": "code",
      "metadata": {
        "id": "2B161a0VQYUX",
        "colab_type": "code",
        "colab": {
          "base_uri": "https://localhost:8080/",
          "height": 905
        },
        "outputId": "6e3bfc3a-e823-446d-b24d-01a3f6442090"
      },
      "source": [
        "pos=0\n",
        "neg=0\n",
        "neu=0\n",
        "# printing line by line\n",
        "for tweet in tweet_data:\n",
        "  # print (tweet.text)\n",
        "  analysis= TextBlob(tweet.text)  # here it will apply nlp\n",
        "  print(analysis.sentiment)\n",
        "  # now checking polarity only\n",
        "  if analysis.sentiment.polarity > 0:\n",
        "    print(\"positive\")\n",
        "    pos=pos+1\n",
        "  elif analysis.sentiment.polarity == 0:\n",
        "    print(\"neutral\")\n",
        "    neu=neu+1\n",
        "  else:\n",
        "    print(\"negative\")\n",
        "    neg=neg+1\n",
        "    \n",
        "# plotting graphs\n",
        "plt.xlabel(\"tags\")\n",
        "plt.ylabel(\"polarity\")\n",
        "#plt.bar(['pos','neg','neu'],[pos,neg,neu])\n",
        "plt.pie([pos,neg,neu],labels=['pos','neg','neu'],autopct=\"%1.1f%%\")\n",
        "plt.show()"
      ],
      "execution_count": 31,
      "outputs": [
        {
          "output_type": "stream",
          "text": [
            "Sentiment(polarity=0.0, subjectivity=0.0)\n",
            "neutral\n",
            "Sentiment(polarity=0.0, subjectivity=0.0)\n",
            "neutral\n",
            "Sentiment(polarity=0.0, subjectivity=0.06666666666666667)\n",
            "neutral\n",
            "Sentiment(polarity=0.5, subjectivity=0.5)\n",
            "positive\n",
            "Sentiment(polarity=0.0, subjectivity=0.0)\n",
            "neutral\n",
            "Sentiment(polarity=0.09318181818181817, subjectivity=0.4022727272727272)\n",
            "positive\n",
            "Sentiment(polarity=-0.2, subjectivity=0.3)\n",
            "negative\n",
            "Sentiment(polarity=0.0, subjectivity=0.0)\n",
            "neutral\n",
            "Sentiment(polarity=-0.06666666666666665, subjectivity=0.5611111111111111)\n",
            "negative\n",
            "Sentiment(polarity=0.8, subjectivity=1.0)\n",
            "positive\n",
            "Sentiment(polarity=0.0, subjectivity=0.0)\n",
            "neutral\n",
            "Sentiment(polarity=-0.012500000000000011, subjectivity=0.65)\n",
            "negative\n",
            "Sentiment(polarity=-0.012500000000000011, subjectivity=0.65)\n",
            "negative\n",
            "Sentiment(polarity=0.0, subjectivity=0.0)\n",
            "neutral\n",
            "Sentiment(polarity=-0.012500000000000011, subjectivity=0.65)\n",
            "negative\n",
            "Sentiment(polarity=-0.4, subjectivity=0.6)\n",
            "negative\n",
            "Sentiment(polarity=0.0, subjectivity=0.0)\n",
            "neutral\n",
            "Sentiment(polarity=0.15, subjectivity=0.5)\n",
            "positive\n"
          ],
          "name": "stdout"
        },
        {
          "output_type": "display_data",
          "data": {
            "image/png": "[encoded data removed]",
            "text/plain": [
              "<Figure size 432x288 with 1 Axes>"
            ]
          },
          "metadata": {
            "tags": []
          }
        }
      ]
    },
    {
      "cell_type": "code",
      "metadata": {
        "id": "EsTHn5KiRGLv",
        "colab_type": "code",
        "colab": {}
      },
      "source": [
        ""
      ],
      "execution_count": 0,
      "outputs": []
    }
  ]
}