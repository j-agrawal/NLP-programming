{
  "nbformat": 4,
  "nbformat_minor": 0,
  "metadata": {
    "colab": {
      "name": "stopwords.ipynb",
      "version": "0.3.2",
      "provenance": [],
      "collapsed_sections": [],
      "include_colab_link": true
    },
    "kernelspec": {
      "name": "python3",
      "display_name": "Python 3"
    }
  },
  "cells": [
    {
      "cell_type": "markdown",
      "metadata": {
        "id": "view-in-github",
        "colab_type": "text"
      },
      "source": [
        "<a href=\"https://colab.research.google.com/github/j-agrawal/NLP-programming/blob/master/stopwords.ipynb\" target=\"_parent\"><img src=\"https://colab.research.google.com/assets/colab-badge.svg\" alt=\"Open In Colab\"/></a>"
      ]
    },
    {
      "cell_type": "code",
      "metadata": {
        "id": "TbXCaZYT9sKm",
        "colab_type": "code",
        "colab": {}
      },
      "source": [
        "import requests"
      ],
      "execution_count": 0,
      "outputs": []
    },
    {
      "cell_type": "code",
      "metadata": {
        "id": "XQqce1DI--cS",
        "colab_type": "code",
        "colab": {}
      },
      "source": [
        "# accessing web site for url\n",
        "webdata= requests.get('https://php.net')"
      ],
      "execution_count": 0,
      "outputs": []
    },
    {
      "cell_type": "code",
      "metadata": {
        "id": "HgLObUXr_COF",
        "colab_type": "code",
        "colab": {
          "base_uri": "https://localhost:8080/",
          "height": 34
        },
        "outputId": "4ca4177a-9e46-442c-d064-b06aa57b163e"
      },
      "source": [
        "webdata # response code of http protocol\n",
        "# where 200 means url is ok\n",
        "# 302 means url is redirected\n",
        "# 404 means url not found\n",
        "# 505 means server is not permitting for web scrapping"
      ],
      "execution_count": 22,
      "outputs": [
        {
          "output_type": "execute_result",
          "data": {
            "text/plain": [
              "<Response [200]>"
            ]
          },
          "metadata": {
            "tags": []
          },
          "execution_count": 22
        }
      ]
    },
    {
      "cell_type": "code",
      "metadata": {
        "id": "OR3TeEa0_HZe",
        "colab_type": "code",
        "colab": {}
      },
      "source": [
        "# now get actual data of ny website / url\n",
        "htmldata=webdata.text"
      ],
      "execution_count": 0,
      "outputs": []
    },
    {
      "cell_type": "code",
      "metadata": {
        "id": "4eE6C8z1AgtT",
        "colab_type": "code",
        "colab": {}
      },
      "source": [
        "# importing bs4\n",
        "from bs4 import BeautifulSoup"
      ],
      "execution_count": 0,
      "outputs": []
    },
    {
      "cell_type": "code",
      "metadata": {
        "id": "LpahH4-3Az7C",
        "colab_type": "code",
        "colab": {}
      },
      "source": [
        "soup= BeautifulSoup(htmldata,'html5lib')\n",
        "# html data, parser"
      ],
      "execution_count": 0,
      "outputs": []
    },
    {
      "cell_type": "code",
      "metadata": {
        "id": "ipygpxFCHAzl",
        "colab_type": "code",
        "colab": {}
      },
      "source": [
        "# finding all data\n",
        "clean_data=soup.get_text()"
      ],
      "execution_count": 0,
      "outputs": []
    },
    {
      "cell_type": "code",
      "metadata": {
        "id": "S8Fa5OolHDi4",
        "colab_type": "code",
        "colab": {}
      },
      "source": [
        "# print(clean_data)\n",
        "# saving data permanently\n",
        "with open('mywebdata.txt','w+') as f:\n",
        "  f.write(clean_data)"
      ],
      "execution_count": 0,
      "outputs": []
    },
    {
      "cell_type": "code",
      "metadata": {
        "id": "NpKT81STHVY-",
        "colab_type": "code",
        "colab": {}
      },
      "source": [
        "# reading from a file\n",
        "f= open('mywebdata.txt','r')\n",
        "mydata=f.read()\n",
        "f.close()"
      ],
      "execution_count": 0,
      "outputs": []
    },
    {
      "cell_type": "code",
      "metadata": {
        "id": "BDIAlM6MIpcC",
        "colab_type": "code",
        "colab": {
          "base_uri": "https://localhost:8080/",
          "height": 34
        },
        "outputId": "b5ebd5b7-7187-4793-e2fb-bbe43d50ff51"
      },
      "source": [
        "type(mydata)\n"
      ],
      "execution_count": 34,
      "outputs": [
        {
          "output_type": "execute_result",
          "data": {
            "text/plain": [
              "str"
            ]
          },
          "metadata": {
            "tags": []
          },
          "execution_count": 34
        }
      ]
    },
    {
      "cell_type": "code",
      "metadata": {
        "id": "NP9dlRKlI528",
        "colab_type": "code",
        "colab": {}
      },
      "source": [
        "# split\n",
        "'''\n",
        "import time\n",
        "for i in mydata.split():  # split all string data by new line\n",
        "  print(i)\n",
        "  time.sleep(1)\n",
        "  '''\n"
      ],
      "execution_count": 0,
      "outputs": []
    },
    {
      "cell_type": "code",
      "metadata": {
        "id": "OYWiWUEeJB_u",
        "colab_type": "code",
        "colab": {}
      },
      "source": [
        "newdata1=[i for i in mydata.split()]"
      ],
      "execution_count": 0,
      "outputs": []
    },
    {
      "cell_type": "code",
      "metadata": {
        "id": "Ssl2S91wJ10X",
        "colab_type": "code",
        "colab": {}
      },
      "source": [
        "# NLTK graphs\n",
        "import matplotlib.pyplot as plt \n",
        "import nltk"
      ],
      "execution_count": 0,
      "outputs": []
    },
    {
      "cell_type": "code",
      "metadata": {
        "id": "dGxj7r8KKGte",
        "colab_type": "code",
        "colab": {}
      },
      "source": [
        "dir(nltk)"
      ],
      "execution_count": 0,
      "outputs": []
    },
    {
      "cell_type": "code",
      "metadata": {
        "id": "LggnfUt1KMnR",
        "colab_type": "code",
        "colab": {
          "base_uri": "https://localhost:8080/",
          "height": 34
        },
        "outputId": "5e46f810-711d-4aa0-cac2-cdc274e1ac88"
      },
      "source": [
        "[i for i in dir(nltk) if 'Freq' in i] # this will plot data for"
      ],
      "execution_count": 43,
      "outputs": [
        {
          "output_type": "execute_result",
          "data": {
            "text/plain": [
              "['ConditionalFreqDist', 'FreqDist']"
            ]
          },
          "metadata": {
            "tags": []
          },
          "execution_count": 43
        }
      ]
    },
    {
      "cell_type": "code",
      "metadata": {
        "id": "J1HQcfi7KgO5",
        "colab_type": "code",
        "colab": {}
      },
      "source": [
        "nlpdata= nltk.FreqDist(newdata1)"
      ],
      "execution_count": 0,
      "outputs": []
    },
    {
      "cell_type": "code",
      "metadata": {
        "id": "4r2t8uRyK2DQ",
        "colab_type": "code",
        "colab": {}
      },
      "source": [
        "nlpdata.plot(20)"
      ],
      "execution_count": 0,
      "outputs": []
    },
    {
      "cell_type": "code",
      "metadata": {
        "id": "zrnGJkZAK4_N",
        "colab_type": "code",
        "colab": {}
      },
      "source": [
        "# we can remove stop words from newdata1 the plot the graph\n",
        "from nltk.corpus import stopwords"
      ],
      "execution_count": 0,
      "outputs": []
    },
    {
      "cell_type": "code",
      "metadata": {
        "id": "GqJ4GzZ0LhU3",
        "colab_type": "code",
        "colab": {}
      },
      "source": [
        "stopwords.words('english')"
      ],
      "execution_count": 0,
      "outputs": []
    },
    {
      "cell_type": "code",
      "metadata": {
        "id": "k8KnjaQbLlEh",
        "colab_type": "code",
        "colab": {}
      },
      "source": [
        "# removing stopwords \n",
        "removeddata=[ i for i in newdata1 if i not in stopwords.words('english')]"
      ],
      "execution_count": 0,
      "outputs": []
    },
    {
      "cell_type": "code",
      "metadata": {
        "id": "YQQlr5x_MTJT",
        "colab_type": "code",
        "colab": {}
      },
      "source": [
        "# apply NLTK freqdist\n",
        "nlpremove= nltk.FreqDist(removeddata)"
      ],
      "execution_count": 0,
      "outputs": []
    },
    {
      "cell_type": "code",
      "metadata": {
        "id": "3hlJ9CeyNeN_",
        "colab_type": "code",
        "colab": {}
      },
      "source": [
        "nlpremove.plot(20)"
      ],
      "execution_count": 0,
      "outputs": []
    },
    {
      "cell_type": "code",
      "metadata": {
        "id": "0xLbGpUYNl0k",
        "colab_type": "code",
        "colab": {}
      },
      "source": [
        ""
      ],
      "execution_count": 0,
      "outputs": []
    }
  ]
}
